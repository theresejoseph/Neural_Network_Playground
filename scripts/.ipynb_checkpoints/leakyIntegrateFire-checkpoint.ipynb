{
 "cells": [
  {
   "cell_type": "code",
   "execution_count": null,
   "id": "01f8ddca",
   "metadata": {},
   "outputs": [],
   "source": [
    "%matplotlib inline\n",
    "import brian2 as b2\n",
    "import matplotlib.pyplot as plt\n",
    "import numpy as np\n",
    "from neurodynex3.leaky_integrate_and_fire import LIF\n",
    "from neurodynex3.tools import input_factory, plot_tools\n",
    "\n",
    "LIF.getting_started()\n",
    "LIF.print_default_parameters()"
   ]
  },
  {
   "cell_type": "code",
   "execution_count": null,
   "id": "b287ad68",
   "metadata": {},
   "outputs": [],
   "source": []
  },
  {
   "cell_type": "code",
   "execution_count": null,
   "id": "68431d79",
   "metadata": {},
   "outputs": [],
   "source": []
  },
  {
   "cell_type": "code",
   "execution_count": null,
   "id": "7bdc87aa",
   "metadata": {},
   "outputs": [],
   "source": []
  }
 ],
 "metadata": {
  "kernelspec": {
   "display_name": "Python 3 (ipykernel)",
   "language": "python",
   "name": "python3"
  },
  "language_info": {
   "codemirror_mode": {
    "name": "ipython",
    "version": 3
   },
   "file_extension": ".py",
   "mimetype": "text/x-python",
   "name": "python",
   "nbconvert_exporter": "python",
   "pygments_lexer": "ipython3",
   "version": "3.8.12"
  }
 },
 "nbformat": 4,
 "nbformat_minor": 5
}
