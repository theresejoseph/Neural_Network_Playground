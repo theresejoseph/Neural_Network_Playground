{
 "cells": [
  {
   "cell_type": "markdown",
   "metadata": {},
   "source": [
    "*Copyright (C) 2021 Intel Corporation*<br>\n",
    "*SPDX-License-Identifier: BSD-3-Clause*<br>\n",
    "*See: https://spdx.org/licenses/*\n",
    "\n",
    "---\n",
    "\n",
    "# lava-dnf 101: Overview of features\n",
    "\n",
    "## Populations and connections\n",
    "\n",
    "Create populations of leaky integrate-and-fire (LIF) neurons.\n",
    "The `shape` argument determines the number of neurons (and their layout; see\n",
    "further below)."
   ]
  },
  {
   "cell_type": "code",
   "execution_count": 4,
   "metadata": {
    "pycharm": {
     "name": "#%%\n"
    }
   },
   "outputs": [],
   "source": [
    "from lava.proc.lif.process import LIF\n",
    "\n",
    "\n",
    "# a one-dimensional LIF population\n",
    "population = LIF(shape=(20,))"
   ]
  },
  {
   "cell_type": "markdown",
   "metadata": {},
   "source": [
    "Create connections between populations using the `connect()` function.\n",
    "The connectivity can be specified using a sequence of _Operations_. Here,\n",
    "every neuron from `population1` is connected to the\n",
    "corresponding neuron from `population2` with a synaptic weight of 20.\n",
    "Operations are explained in more detail below."
   ]
  },
  {
   "cell_type": "code",
   "execution_count": 5,
   "metadata": {
    "pycharm": {
     "name": "#%%\n"
    }
   },
   "outputs": [
    {
     "data": {
      "text/plain": [
       "<lava.proc.dense.process.Dense at 0x7f89c9300310>"
      ]
     },
     "execution_count": 5,
     "metadata": {},
     "output_type": "execute_result"
    }
   ],
   "source": [
    "from lava.lib.dnf.connect.connect import connect\n",
    "from lava.lib.dnf.operations.operations import Weights\n",
    "\n",
    "\n",
    "population1 = LIF(shape=(20,))\n",
    "population2 = LIF(shape=(20,))\n",
    "connect(population1.s_out, population2.a_in, ops=[Weights(20)])"
   ]
  },
  {
   "cell_type": "markdown",
   "metadata": {},
   "source": [
    "## Dynamic neural fields (DNF)\n",
    "\n",
    "### Multi-peak DNF\n",
    "\n",
    "Create dynamic neural fields (DNFs) that support multiple peaks by using the\n",
    "`MultiPeakKernel` with local excitation and mid-range inhibition. Use the\n",
    "`Convolution` operation to apply the kernel."
   ]
  },
  {
   "cell_type": "code",
   "execution_count": 6,
   "metadata": {
    "pycharm": {
     "name": "#%%\n"
    }
   },
   "outputs": [
    {
     "data": {
      "text/plain": [
       "<lava.proc.dense.process.Dense at 0x7f89907f1f10>"
      ]
     },
     "execution_count": 6,
     "metadata": {},
     "output_type": "execute_result"
    }
   ],
   "source": [
    "from lava.lib.dnf.kernels.kernels import MultiPeakKernel\n",
    "from lava.lib.dnf.operations.operations import Convolution\n",
    "\n",
    "\n",
    "dnf = LIF(shape=(20,))\n",
    "\n",
    "kernel = MultiPeakKernel(amp_exc=25,\n",
    "                         width_exc=3,\n",
    "                         amp_inh=-15,\n",
    "                         width_inh=6)\n",
    "connect(dnf.s_out, dnf.a_in, ops=[Convolution(kernel)])"
   ]
  },
  {
   "cell_type": "markdown",
   "metadata": {},
   "source": [
    "### Selective DNF\n",
    "\n",
    "Create DNFs that are selective and only create a single peak by using the\n",
    "`SelectiveKernel` with local excitation and global inhibition."
   ]
  },
  {
   "cell_type": "code",
   "execution_count": 7,
   "metadata": {
    "pycharm": {
     "name": "#%%\n"
    }
   },
   "outputs": [
    {
     "data": {
      "text/plain": [
       "<lava.proc.dense.process.Dense at 0x7f89c92d5fa0>"
      ]
     },
     "execution_count": 7,
     "metadata": {},
     "output_type": "execute_result"
    }
   ],
   "source": [
    "from lava.lib.dnf.kernels.kernels import SelectiveKernel\n",
    "\n",
    "\n",
    "dnf = LIF(shape=(20,))\n",
    "\n",
    "kernel = SelectiveKernel(amp_exc=18,\n",
    "                         width_exc=3,\n",
    "                         global_inh=-15)\n",
    "connect(dnf.s_out, dnf.a_in, ops=[Convolution(kernel)])"
   ]
  },
  {
   "cell_type": "markdown",
   "metadata": {},
   "source": [
    "## Input\n",
    "\n",
    "### Spike generators\n",
    "\n",
    "To simulate spike input to a DNF, use a `RateCodeSpikeGen` Process. It\n",
    "generates spikes with a spike rate pattern that can be specified, for\n",
    "instance by using the `GaussPattern` Process. Connect the `RateCodeSpikeGen` to\n",
    " a DNF with the `connect()` function. You may change parameters of the\n",
    " `GaussPattern` during runtime."
   ]
  },
  {
   "cell_type": "code",
   "execution_count": 9,
   "metadata": {
    "pycharm": {
     "name": "#%%\n"
    }
   },
   "outputs": [
    {
     "name": "stderr",
     "output_type": "stream",
     "text": [
      "Process SystemProcess-12:\n",
      "Process SystemProcess-15:\n",
      "Process SystemProcess-16:\n",
      "Process SystemProcess-10:\n",
      "Process SystemProcess-11:\n",
      "Process SystemProcess-13:\n",
      "Traceback (most recent call last):\n",
      "Traceback (most recent call last):\n",
      "  File \"/Users/theresejoseph/opt/anaconda3/envs/neurodynx/lib/python3.8/multiprocessing/process.py\", line 315, in _bootstrap\n",
      "    self.run()\n",
      "  File \"/Users/theresejoseph/opt/anaconda3/envs/neurodynx/lib/python3.8/site-packages/lava/magma/runtime/message_infrastructure/multiprocessing.py\", line 39, in run\n",
      "    mp.Process.run(self)\n",
      "  File \"/Users/theresejoseph/opt/anaconda3/envs/neurodynx/lib/python3.8/multiprocessing/process.py\", line 108, in run\n",
      "    self._target(*self._args, **self._kwargs)\n",
      "  File \"/Users/theresejoseph/opt/anaconda3/envs/neurodynx/lib/python3.8/site-packages/lava/magma/runtime/runtime.py\", line 91, in target_fn\n",
      "    actor.start(*args, **kwargs)\n",
      "  File \"/Users/theresejoseph/opt/anaconda3/envs/neurodynx/lib/python3.8/site-packages/lava/magma/core/model/py/model.py\", line 85, in start\n",
      "    self.run()\n",
      "  File \"/Users/theresejoseph/opt/anaconda3/envs/neurodynx/lib/python3.8/site-packages/lava/magma/core/model/py/model.py\", line 191, in run\n",
      "    self._action = self._selector.select(*self._channel_actions)\n",
      "  File \"/Users/theresejoseph/opt/anaconda3/envs/neurodynx/lib/python3.8/site-packages/lava/magma/compiler/channels/pypychannel.py\", line 310, in select\n",
      "    self._cv.wait()\n",
      "  File \"/Users/theresejoseph/opt/anaconda3/envs/neurodynx/lib/python3.8/threading.py\", line 302, in wait\n",
      "    waiter.acquire()\n",
      "KeyboardInterrupt\n",
      "Traceback (most recent call last):\n",
      "  File \"/Users/theresejoseph/opt/anaconda3/envs/neurodynx/lib/python3.8/multiprocessing/process.py\", line 315, in _bootstrap\n",
      "    self.run()\n",
      "  File \"/Users/theresejoseph/opt/anaconda3/envs/neurodynx/lib/python3.8/site-packages/lava/magma/runtime/message_infrastructure/multiprocessing.py\", line 39, in run\n",
      "    mp.Process.run(self)\n",
      "  File \"/Users/theresejoseph/opt/anaconda3/envs/neurodynx/lib/python3.8/multiprocessing/process.py\", line 108, in run\n",
      "    self._target(*self._args, **self._kwargs)\n",
      "  File \"/Users/theresejoseph/opt/anaconda3/envs/neurodynx/lib/python3.8/site-packages/lava/magma/runtime/runtime.py\", line 91, in target_fn\n",
      "    actor.start(*args, **kwargs)\n",
      "  File \"/Users/theresejoseph/opt/anaconda3/envs/neurodynx/lib/python3.8/site-packages/lava/magma/core/model/py/model.py\", line 85, in start\n",
      "    self.run()\n",
      "  File \"/Users/theresejoseph/opt/anaconda3/envs/neurodynx/lib/python3.8/site-packages/lava/magma/core/model/py/model.py\", line 191, in run\n",
      "    self._action = self._selector.select(*self._channel_actions)\n",
      "  File \"/Users/theresejoseph/opt/anaconda3/envs/neurodynx/lib/python3.8/site-packages/lava/magma/compiler/channels/pypychannel.py\", line 310, in select\n",
      "    self._cv.wait()\n",
      "  File \"/Users/theresejoseph/opt/anaconda3/envs/neurodynx/lib/python3.8/threading.py\", line 302, in wait\n",
      "    waiter.acquire()\n",
      "  File \"/Users/theresejoseph/opt/anaconda3/envs/neurodynx/lib/python3.8/multiprocessing/process.py\", line 315, in _bootstrap\n",
      "    self.run()\n",
      "  File \"/Users/theresejoseph/opt/anaconda3/envs/neurodynx/lib/python3.8/site-packages/lava/magma/runtime/message_infrastructure/multiprocessing.py\", line 39, in run\n",
      "    mp.Process.run(self)\n",
      "  File \"/Users/theresejoseph/opt/anaconda3/envs/neurodynx/lib/python3.8/multiprocessing/process.py\", line 108, in run\n",
      "    self._target(*self._args, **self._kwargs)\n",
      "  File \"/Users/theresejoseph/opt/anaconda3/envs/neurodynx/lib/python3.8/site-packages/lava/magma/runtime/runtime.py\", line 91, in target_fn\n",
      "    actor.start(*args, **kwargs)\n",
      "  File \"/Users/theresejoseph/opt/anaconda3/envs/neurodynx/lib/python3.8/site-packages/lava/magma/runtime/runtime_services/runtime_service.py\", line 94, in start\n",
      "    self.run()\n",
      "KeyboardInterrupt\n",
      "  File \"/Users/theresejoseph/opt/anaconda3/envs/neurodynx/lib/python3.8/site-packages/lava/magma/runtime/runtime_services/runtime_service.py\", line 348, in run\n",
      "    self._get_pm_resp()\n",
      "Traceback (most recent call last):\n",
      "  File \"/Users/ther"
     ]
    },
    {
     "ename": "KeyboardInterrupt",
     "evalue": "",
     "output_type": "error",
     "traceback": [
      "\u001b[0;31m---------------------------------------------------------------------------\u001b[0m",
      "\u001b[0;31mKeyboardInterrupt\u001b[0m                         Traceback (most recent call last)",
      "\u001b[1;32m/Users/theresejoseph/Documents/Neural_Network_Playground/scripts/tutorial_dnf_101.ipynb Cell 10'\u001b[0m in \u001b[0;36m<cell line: 22>\u001b[0;34m()\u001b[0m\n\u001b[1;32m     <a href='vscode-notebook-cell:/Users/theresejoseph/Documents/Neural_Network_Playground/scripts/tutorial_dnf_101.ipynb#ch0000009?line=18'>19</a>\u001b[0m connect(spike_generator\u001b[39m.\u001b[39ms_out, population\u001b[39m.\u001b[39ma_in, ops\u001b[39m=\u001b[39m[Weights(\u001b[39m20\u001b[39m)])\n\u001b[1;32m     <a href='vscode-notebook-cell:/Users/theresejoseph/Documents/Neural_Network_Playground/scripts/tutorial_dnf_101.ipynb#ch0000009?line=20'>21</a>\u001b[0m \u001b[39m# Start running the network (explained below)\u001b[39;00m\n\u001b[0;32m---> <a href='vscode-notebook-cell:/Users/theresejoseph/Documents/Neural_Network_Playground/scripts/tutorial_dnf_101.ipynb#ch0000009?line=21'>22</a>\u001b[0m population\u001b[39m.\u001b[39;49mrun(condition\u001b[39m=\u001b[39;49mRunSteps(num_steps\u001b[39m=\u001b[39;49m\u001b[39m10\u001b[39;49m),\n\u001b[1;32m     <a href='vscode-notebook-cell:/Users/theresejoseph/Documents/Neural_Network_Playground/scripts/tutorial_dnf_101.ipynb#ch0000009?line=22'>23</a>\u001b[0m                run_cfg\u001b[39m=\u001b[39;49mLoihi1SimCfg(select_tag\u001b[39m=\u001b[39;49m\u001b[39m'\u001b[39;49m\u001b[39mfloating_pt\u001b[39;49m\u001b[39m'\u001b[39;49m))\n\u001b[1;32m     <a href='vscode-notebook-cell:/Users/theresejoseph/Documents/Neural_Network_Playground/scripts/tutorial_dnf_101.ipynb#ch0000009?line=24'>25</a>\u001b[0m \u001b[39m# You may change parameters of the Gaussian pattern during runtime\u001b[39;00m\n\u001b[1;32m     <a href='vscode-notebook-cell:/Users/theresejoseph/Documents/Neural_Network_Playground/scripts/tutorial_dnf_101.ipynb#ch0000009?line=25'>26</a>\u001b[0m gauss_pattern\u001b[39m.\u001b[39mamplitude \u001b[39m=\u001b[39m \u001b[39m50\u001b[39m\n",
      "File \u001b[0;32m~/opt/anaconda3/envs/neurodynx/lib/python3.8/site-packages/lava/magma/core/process/process.py:424\u001b[0m, in \u001b[0;36mAbstractProcess.run\u001b[0;34m(self, condition, run_cfg)\u001b[0m\n\u001b[1;32m    <a href='file:///Users/theresejoseph/opt/anaconda3/envs/neurodynx/lib/python3.8/site-packages/lava/magma/core/process/process.py?line=418'>419</a>\u001b[0m     \u001b[39mself\u001b[39m\u001b[39m.\u001b[39m_runtime \u001b[39m=\u001b[39m Runtime(executable,\n\u001b[1;32m    <a href='file:///Users/theresejoseph/opt/anaconda3/envs/neurodynx/lib/python3.8/site-packages/lava/magma/core/process/process.py?line=419'>420</a>\u001b[0m                             ActorType\u001b[39m.\u001b[39mMultiProcessing,\n\u001b[1;32m    <a href='file:///Users/theresejoseph/opt/anaconda3/envs/neurodynx/lib/python3.8/site-packages/lava/magma/core/process/process.py?line=420'>421</a>\u001b[0m                             loglevel\u001b[39m=\u001b[39m\u001b[39mself\u001b[39m\u001b[39m.\u001b[39mloglevel)\n\u001b[1;32m    <a href='file:///Users/theresejoseph/opt/anaconda3/envs/neurodynx/lib/python3.8/site-packages/lava/magma/core/process/process.py?line=421'>422</a>\u001b[0m     \u001b[39mself\u001b[39m\u001b[39m.\u001b[39m_runtime\u001b[39m.\u001b[39minitialize()\n\u001b[0;32m--> <a href='file:///Users/theresejoseph/opt/anaconda3/envs/neurodynx/lib/python3.8/site-packages/lava/magma/core/process/process.py?line=423'>424</a>\u001b[0m \u001b[39mself\u001b[39;49m\u001b[39m.\u001b[39;49m_runtime\u001b[39m.\u001b[39;49mstart(condition)\n",
      "File \u001b[0;32m~/opt/anaconda3/envs/neurodynx/lib/python3.8/site-packages/lava/magma/runtime/runtime.py:308\u001b[0m, in \u001b[0;36mRuntime.start\u001b[0;34m(self, run_condition)\u001b[0m\n\u001b[1;32m    <a href='file:///Users/theresejoseph/opt/anaconda3/envs/neurodynx/lib/python3.8/site-packages/lava/magma/runtime/runtime.py?line=304'>305</a>\u001b[0m \u001b[39mif\u001b[39;00m \u001b[39mself\u001b[39m\u001b[39m.\u001b[39m_is_initialized:\n\u001b[1;32m    <a href='file:///Users/theresejoseph/opt/anaconda3/envs/neurodynx/lib/python3.8/site-packages/lava/magma/runtime/runtime.py?line=305'>306</a>\u001b[0m     \u001b[39m# Start running\u001b[39;00m\n\u001b[1;32m    <a href='file:///Users/theresejoseph/opt/anaconda3/envs/neurodynx/lib/python3.8/site-packages/lava/magma/runtime/runtime.py?line=306'>307</a>\u001b[0m     \u001b[39mself\u001b[39m\u001b[39m.\u001b[39m_is_started \u001b[39m=\u001b[39m \u001b[39mTrue\u001b[39;00m\n\u001b[0;32m--> <a href='file:///Users/theresejoseph/opt/anaconda3/envs/neurodynx/lib/python3.8/site-packages/lava/magma/runtime/runtime.py?line=307'>308</a>\u001b[0m     \u001b[39mself\u001b[39;49m\u001b[39m.\u001b[39;49m_run(run_condition)\n\u001b[1;32m    <a href='file:///Users/theresejoseph/opt/anaconda3/envs/neurodynx/lib/python3.8/site-packages/lava/magma/runtime/runtime.py?line=308'>309</a>\u001b[0m \u001b[39melse\u001b[39;00m:\n\u001b[1;32m    <a href='file:///Users/theresejoseph/opt/anaconda3/envs/neurodynx/lib/python3.8/site-packages/lava/magma/runtime/runtime.py?line=309'>310</a>\u001b[0m     \u001b[39mself\u001b[39m\u001b[39m.\u001b[39mlog\u001b[39m.\u001b[39minfo(\u001b[39m\"\u001b[39m\u001b[39mRuntime not initialized yet.\u001b[39m\u001b[39m\"\u001b[39m)\n",
      "File \u001b[0;32m~/opt/anaconda3/envs/neurodynx/lib/python3.8/site-packages/lava/magma/runtime/runtime.py:326\u001b[0m, in \u001b[0;36mRuntime._run\u001b[0;34m(self, run_condition)\u001b[0m\n\u001b[1;32m    <a href='file:///Users/theresejoseph/opt/anaconda3/envs/neurodynx/lib/python3.8/site-packages/lava/magma/runtime/runtime.py?line=323'>324</a>\u001b[0m         send_port\u001b[39m.\u001b[39msend(enum_to_np(\u001b[39mself\u001b[39m\u001b[39m.\u001b[39mnum_steps))\n\u001b[1;32m    <a href='file:///Users/theresejoseph/opt/anaconda3/envs/neurodynx/lib/python3.8/site-packages/lava/magma/runtime/runtime.py?line=324'>325</a>\u001b[0m     \u001b[39mif\u001b[39;00m run_condition\u001b[39m.\u001b[39mblocking:\n\u001b[0;32m--> <a href='file:///Users/theresejoseph/opt/anaconda3/envs/neurodynx/lib/python3.8/site-packages/lava/magma/runtime/runtime.py?line=325'>326</a>\u001b[0m         \u001b[39mself\u001b[39;49m\u001b[39m.\u001b[39;49m_get_resp_for_run()\n\u001b[1;32m    <a href='file:///Users/theresejoseph/opt/anaconda3/envs/neurodynx/lib/python3.8/site-packages/lava/magma/runtime/runtime.py?line=326'>327</a>\u001b[0m \u001b[39melif\u001b[39;00m \u001b[39misinstance\u001b[39m(run_condition, RunContinuous):\n\u001b[1;32m    <a href='file:///Users/theresejoseph/opt/anaconda3/envs/neurodynx/lib/python3.8/site-packages/lava/magma/runtime/runtime.py?line=327'>328</a>\u001b[0m     \u001b[39mself\u001b[39m\u001b[39m.\u001b[39mnum_steps \u001b[39m=\u001b[39m sys\u001b[39m.\u001b[39mmaxsize\n",
      "File \u001b[0;32m~/opt/anaconda3/envs/neurodynx/lib/python3.8/site-packages/lava/magma/runtime/runtime.py:269\u001b[0m, in \u001b[0;36mRuntime._get_resp_for_run\u001b[0;34m(self)\u001b[0m\n\u001b[1;32m    <a href='file:///Users/theresejoseph/opt/anaconda3/envs/neurodynx/lib/python3.8/site-packages/lava/magma/runtime/runtime.py?line=266'>267</a>\u001b[0m \u001b[39mif\u001b[39;00m \u001b[39mself\u001b[39m\u001b[39m.\u001b[39m_is_running:\n\u001b[1;32m    <a href='file:///Users/theresejoseph/opt/anaconda3/envs/neurodynx/lib/python3.8/site-packages/lava/magma/runtime/runtime.py?line=267'>268</a>\u001b[0m     \u001b[39mfor\u001b[39;00m recv_port \u001b[39min\u001b[39;00m \u001b[39mself\u001b[39m\u001b[39m.\u001b[39mservice_to_runtime:\n\u001b[0;32m--> <a href='file:///Users/theresejoseph/opt/anaconda3/envs/neurodynx/lib/python3.8/site-packages/lava/magma/runtime/runtime.py?line=268'>269</a>\u001b[0m         data \u001b[39m=\u001b[39m recv_port\u001b[39m.\u001b[39;49mrecv()\n\u001b[1;32m    <a href='file:///Users/theresejoseph/opt/anaconda3/envs/neurodynx/lib/python3.8/site-packages/lava/magma/runtime/runtime.py?line=269'>270</a>\u001b[0m         \u001b[39mif\u001b[39;00m enum_equal(data, MGMT_RESPONSE\u001b[39m.\u001b[39mREQ_PAUSE):\n\u001b[1;32m    <a href='file:///Users/theresejoseph/opt/anaconda3/envs/neurodynx/lib/python3.8/site-packages/lava/magma/runtime/runtime.py?line=270'>271</a>\u001b[0m             \u001b[39mself\u001b[39m\u001b[39m.\u001b[39m_req_paused \u001b[39m=\u001b[39m \u001b[39mTrue\u001b[39;00m\n",
      "File \u001b[0;32m~/opt/anaconda3/envs/neurodynx/lib/python3.8/site-packages/lava/magma/compiler/channels/pypychannel.py:265\u001b[0m, in \u001b[0;36mCspRecvPort.recv\u001b[0;34m(self)\u001b[0m\n\u001b[1;32m    <a href='file:///Users/theresejoseph/opt/anaconda3/envs/neurodynx/lib/python3.8/site-packages/lava/magma/compiler/channels/pypychannel.py?line=260'>261</a>\u001b[0m \u001b[39mdef\u001b[39;00m \u001b[39mrecv\u001b[39m(\u001b[39mself\u001b[39m):\n\u001b[1;32m    <a href='file:///Users/theresejoseph/opt/anaconda3/envs/neurodynx/lib/python3.8/site-packages/lava/magma/compiler/channels/pypychannel.py?line=261'>262</a>\u001b[0m     \u001b[39m\"\"\"\u001b[39;00m\n\u001b[1;32m    <a href='file:///Users/theresejoseph/opt/anaconda3/envs/neurodynx/lib/python3.8/site-packages/lava/magma/compiler/channels/pypychannel.py?line=262'>263</a>\u001b[0m \u001b[39m    Receive from the channel. Blocks if there is no data on the channel.\u001b[39;00m\n\u001b[1;32m    <a href='file:///Users/theresejoseph/opt/anaconda3/envs/neurodynx/lib/python3.8/site-packages/lava/magma/compiler/channels/pypychannel.py?line=263'>264</a>\u001b[0m \u001b[39m    \"\"\"\u001b[39;00m\n\u001b[0;32m--> <a href='file:///Users/theresejoseph/opt/anaconda3/envs/neurodynx/lib/python3.8/site-packages/lava/magma/compiler/channels/pypychannel.py?line=264'>265</a>\u001b[0m     \u001b[39mself\u001b[39;49m\u001b[39m.\u001b[39;49m_queue\u001b[39m.\u001b[39;49mget()\n\u001b[1;32m    <a href='file:///Users/theresejoseph/opt/anaconda3/envs/neurodynx/lib/python3.8/site-packages/lava/magma/compiler/channels/pypychannel.py?line=265'>266</a>\u001b[0m     result \u001b[39m=\u001b[39m \u001b[39mself\u001b[39m\u001b[39m.\u001b[39m_array[\u001b[39mself\u001b[39m\u001b[39m.\u001b[39m_idx]\u001b[39m.\u001b[39mcopy()\n\u001b[1;32m    <a href='file:///Users/theresejoseph/opt/anaconda3/envs/neurodynx/lib/python3.8/site-packages/lava/magma/compiler/channels/pypychannel.py?line=266'>267</a>\u001b[0m     \u001b[39mself\u001b[39m\u001b[39m.\u001b[39m_idx \u001b[39m=\u001b[39m (\u001b[39mself\u001b[39m\u001b[39m.\u001b[39m_idx \u001b[39m+\u001b[39m \u001b[39m1\u001b[39m) \u001b[39m%\u001b[39m \u001b[39mself\u001b[39m\u001b[39m.\u001b[39m_size\n",
      "File \u001b[0;32m~/opt/anaconda3/envs/neurodynx/lib/python3.8/site-packages/lava/magma/compiler/channels/pypychannel.py:149\u001b[0m, in \u001b[0;36mCspRecvQueue.get\u001b[0;34m(self, block, timeout, peek)\u001b[0m\n\u001b[1;32m    <a href='file:///Users/theresejoseph/opt/anaconda3/envs/neurodynx/lib/python3.8/site-packages/lava/magma/compiler/channels/pypychannel.py?line=146'>147</a>\u001b[0m \u001b[39melif\u001b[39;00m timeout \u001b[39mis\u001b[39;00m \u001b[39mNone\u001b[39;00m:\n\u001b[1;32m    <a href='file:///Users/theresejoseph/opt/anaconda3/envs/neurodynx/lib/python3.8/site-packages/lava/magma/compiler/channels/pypychannel.py?line=147'>148</a>\u001b[0m     \u001b[39mwhile\u001b[39;00m \u001b[39mnot\u001b[39;00m \u001b[39mself\u001b[39m\u001b[39m.\u001b[39m_qsize():\n\u001b[0;32m--> <a href='file:///Users/theresejoseph/opt/anaconda3/envs/neurodynx/lib/python3.8/site-packages/lava/magma/compiler/channels/pypychannel.py?line=148'>149</a>\u001b[0m         \u001b[39mself\u001b[39;49m\u001b[39m.\u001b[39;49mnot_empty\u001b[39m.\u001b[39;49mwait()\n\u001b[1;32m    <a href='file:///Users/theresejoseph/opt/anaconda3/envs/neurodynx/lib/python3.8/site-packages/lava/magma/compiler/channels/pypychannel.py?line=149'>150</a>\u001b[0m \u001b[39melif\u001b[39;00m timeout \u001b[39m<\u001b[39m \u001b[39m0\u001b[39m:\n\u001b[1;32m    <a href='file:///Users/theresejoseph/opt/anaconda3/envs/neurodynx/lib/python3.8/site-packages/lava/magma/compiler/channels/pypychannel.py?line=150'>151</a>\u001b[0m     \u001b[39mraise\u001b[39;00m \u001b[39mValueError\u001b[39;00m(\u001b[39m\"\u001b[39m\u001b[39m'\u001b[39m\u001b[39mtimeout\u001b[39m\u001b[39m'\u001b[39m\u001b[39m must be a non-negative number\u001b[39m\u001b[39m\"\u001b[39m)\n",
      "File \u001b[0;32m~/opt/anaconda3/envs/neurodynx/lib/python3.8/threading.py:302\u001b[0m, in \u001b[0;36mCondition.wait\u001b[0;34m(self, timeout)\u001b[0m\n\u001b[1;32m    <a href='file:///Users/theresejoseph/opt/anaconda3/envs/neurodynx/lib/python3.8/threading.py?line=299'>300</a>\u001b[0m \u001b[39mtry\u001b[39;00m:    \u001b[39m# restore state no matter what (e.g., KeyboardInterrupt)\u001b[39;00m\n\u001b[1;32m    <a href='file:///Users/theresejoseph/opt/anaconda3/envs/neurodynx/lib/python3.8/threading.py?line=300'>301</a>\u001b[0m     \u001b[39mif\u001b[39;00m timeout \u001b[39mis\u001b[39;00m \u001b[39mNone\u001b[39;00m:\n\u001b[0;32m--> <a href='file:///Users/theresejoseph/opt/anaconda3/envs/neurodynx/lib/python3.8/threading.py?line=301'>302</a>\u001b[0m         waiter\u001b[39m.\u001b[39;49macquire()\n\u001b[1;32m    <a href='file:///Users/theresejoseph/opt/anaconda3/envs/neurodynx/lib/python3.8/threading.py?line=302'>303</a>\u001b[0m         gotit \u001b[39m=\u001b[39m \u001b[39mTrue\u001b[39;00m\n\u001b[1;32m    <a href='file:///Users/theresejoseph/opt/anaconda3/envs/neurodynx/lib/python3.8/threading.py?line=303'>304</a>\u001b[0m     \u001b[39melse\u001b[39;00m:\n",
      "\u001b[0;31mKeyboardInterrupt\u001b[0m: "
     ]
    },
    {
     "name": "stderr",
     "output_type": "stream",
     "text": [
      "esejoseph/opt/anaconda3/envs/neurodynx/lib/python3.8/site-packages/lava/magma/runtime/runtime_services/runtime_service.py\", line 206, in _get_pm_resp\n",
      "    rcv_msgs.append(ptos_recv_port.recv())\n",
      "  File \"/Users/theresejoseph/opt/anaconda3/envs/neurodynx/lib/python3.8/site-packages/lava/magma/compiler/channels/pypychannel.py\", line 265, in recv\n",
      "    self._queue.get()\n",
      "  File \"/Users/theresejoseph/opt/anaconda3/envs/neurodynx/lib/python3.8/site-packages/lava/magma/compiler/channels/pypychannel.py\", line 149, in get\n",
      "    self.not_empty.wait()\n",
      "  File \"/Users/theresejoseph/opt/anaconda3/envs/neurodynx/lib/python3.8/threading.py\", line 302, in wait\n",
      "    waiter.acquire()\n",
      "KeyboardInterrupt\n",
      "  File \"/Users/theresejoseph/opt/anaconda3/envs/neurodynx/lib/python3.8/multiprocessing/process.py\", line 315, in _bootstrap\n",
      "    self.run()\n",
      "  File \"/Users/theresejoseph/opt/anaconda3/envs/neurodynx/lib/python3.8/site-packages/lava/magma/runtime/message_infrastructure/multiprocessing.py\", line 39, in run\n",
      "    mp.Process.run(self)\n",
      "  File \"/Users/theresejoseph/opt/anaconda3/envs/neurodynx/lib/python3.8/multiprocessing/process.py\", line 108, in run\n",
      "    self._target(*self._args, **self._kwargs)\n",
      "  File \"/Users/theresejoseph/opt/anaconda3/envs/neurodynx/lib/python3.8/site-packages/lava/magma/runtime/runtime.py\", line 91, in target_fn\n",
      "    actor.start(*args, **kwargs)\n",
      "  File \"/Users/theresejoseph/opt/anaconda3/envs/neurodynx/lib/python3.8/site-packages/lava/magma/core/model/py/model.py\", line 85, in start\n",
      "    self.run()\n",
      "  File \"/Users/theresejoseph/opt/anaconda3/envs/neurodynx/lib/python3.8/site-packages/lava/magma/core/model/py/model.py\", line 191, in run\n",
      "    self._action = self._selector.select(*self._channel_actions)\n",
      "  File \"/Users/theresejoseph/opt/anaconda3/envs/neurodynx/lib/python3.8/site-packages/lava/magma/compiler/channels/pypychannel.py\", line 310, in select\n",
      "    self._cv.wait()\n",
      "  File \"/Users/theresejoseph/opt/anaconda3/envs/neurodynx/lib/python3.8/threading.py\", line 302, in wait\n",
      "    waiter.acquire()\n",
      "KeyboardInterrupt\n",
      "Traceback (most recent call last):\n",
      "  File \"/Users/theresejoseph/opt/anaconda3/envs/neurodynx/lib/python3.8/multiprocessing/process.py\", line 315, in _bootstrap\n",
      "    self.run()\n",
      "  File \"/Users/theresejoseph/opt/anaconda3/envs/neurodynx/lib/python3.8/site-packages/lava/magma/runtime/message_infrastructure/multiprocessing.py\", line 39, in run\n",
      "    mp.Process.run(self)\n",
      "  File \"/Users/theresejoseph/opt/anaconda3/envs/neurodynx/lib/python3.8/multiprocessing/process.py\", line 108, in run\n",
      "    self._target(*self._args, **self._kwargs)\n",
      "  File \"/Users/theresejoseph/opt/anaconda3/envs/neurodynx/lib/python3.8/site-packages/lava/magma/runtime/runtime.py\", line 91, in target_fn\n",
      "    actor.start(*args, **kwargs)\n",
      "  File \"/Users/theresejoseph/opt/anaconda3/envs/neurodynx/lib/python3.8/site-packages/lava/magma/core/model/py/model.py\", line 85, in start\n",
      "    self.run()\n",
      "  File \"/Users/theresejoseph/opt/anaconda3/envs/neurodynx/lib/python3.8/site-packages/lava/magma/core/model/py/model.py\", line 172, in run\n",
      "    self._cmd_handlers[cmd]()\n",
      "  File \"/Users/theresejoseph/opt/anaconda3/envs/neurodynx/lib/python3.8/site-packages/lava/magma/core/model/py/model.py\", line 313, in _spike\n",
      "    self.run_spk()\n",
      "  File \"/Users/theresejoseph/opt/anaconda3/envs/neurodynx/lib/python3.8/site-packages/lava/proc/dense/models.py\", line 45, in run_spk\n",
      "    s_in = self.s_in.recv().astype(bool)\n",
      "  File \"/Users/theresejoseph/opt/anaconda3/envs/neurodynx/lib/python3.8/site-packages/lava/magma/core/model/py/ports.py\", line 231, in recv\n",
      "    return ft.reduce(\n",
      "  File \"/Users/theresejoseph/opt/anaconda3/envs/neurodynx/lib/python3.8/site-packages/lava/magma/core/model/py/ports.py\", line 232, in <lambda>\n",
      "    lambda acc, csp_port: acc + self._transform(csp_port.recv()),\n",
      "  File \"/Users/theresejoseph/opt/anaconda3/envs/neurodynx/lib/python3.8/site-packages/lava/magma/compiler/channels/pypychannel.py\", line 265, in recv\n",
      "    self._queue.get()\n",
      "  File \"/Users/theresejoseph/opt/anaconda3/envs/neurodynx/lib/python3.8/site-packages/lava/magma/compiler/channels/pypychannel.py\", line 149, in get\n",
      "    self.not_empty.wait()\n",
      "  File \"/Users/theresejoseph/opt/anaconda3/envs/neurodynx/lib/python3.8/threading.py\", line 302, in wait\n",
      "    waiter.acquire()\n",
      "KeyboardInterrupt\n",
      "Traceback (most recent call last):\n",
      "  File \"/Users/theresejoseph/opt/anaconda3/envs/neurodynx/lib/python3.8/multiprocessing/process.py\", line 315, in _bootstrap\n",
      "    self.run()\n",
      "  File \"/Users/theresejoseph/opt/anaconda3/envs/neurodynx/lib/python3.8/site-packages/lava/magma/runtime/message_infrastructure/multiprocessing.py\", line 39, in run\n",
      "    mp.Process.run(self)\n",
      "  File \"/Users/theresejoseph/opt/anaconda3/envs/neurodynx/lib/python3.8/multiprocessing/process.py\", line 108, in run\n",
      "    self._target(*self._args, **self._kwargs)\n",
      "  File \"/Users/theresejoseph/opt/anaconda3/envs/neurodynx/lib/python3.8/site-packages/lava/magma/runtime/runtime.py\", line 91, in target_fn\n",
      "    actor.start(*args, **kwargs)\n",
      "  File \"/Users/theresejoseph/opt/anaconda3/envs/neurodynx/lib/python3.8/site-packages/lava/magma/core/model/py/model.py\", line 85, in start\n",
      "    self.run()\n",
      "  File \"/Users/theresejoseph/opt/anaconda3/envs/neurodynx/lib/python3.8/site-packages/lava/magma/core/model/py/model.py\", line 172, in run\n",
      "    self._cmd_handlers[cmd]()\n",
      "  File \"/Users/theresejoseph/opt/anaconda3/envs/neurodynx/lib/python3.8/site-packages/lava/magma/core/model/py/model.py\", line 313, in _spike\n",
      "    self.run_spk()\n",
      "  File \"/Users/theresejoseph/opt/anaconda3/envs/neurodynx/lib/python3.8/site-packages/lava/lib/dnf/connect/reshape_bool/models.py\", line 28, in run_spk\n",
      "    rec = self.s_in.recv()\n",
      "  File \"/Users/theresejoseph/opt/anaconda3/envs/neurodynx/lib/python3.8/site-packages/lava/magma/core/model/py/ports.py\", line 231, in recv\n",
      "    return ft.reduce(\n",
      "  File \"/Users/theresejoseph/opt/anaconda3/envs/neurodynx/lib/python3.8/site-packages/lava/magma/core/model/py/ports.py\", line 232, in <lambda>\n",
      "    lambda acc, csp_port: acc + self._transform(csp_port.recv()),\n",
      "  File \"/Users/theresejoseph/opt/anaconda3/envs/neurodynx/lib/python3.8/site-packages/lava/magma/compiler/channels/pypychannel.py\", line 265, in recv\n",
      "    self._queue.get()\n",
      "  File \"/Users/theresejoseph/opt/anaconda3/envs/neurodynx/lib/python3.8/site-packages/lava/magma/compiler/channels/pypychannel.py\", line 149, in get\n",
      "    self.not_empty.wait()\n",
      "  File \"/Users/theresejoseph/opt/anaconda3/envs/neurodynx/lib/python3.8/threading.py\", line 302, in wait\n",
      "    waiter.acquire()\n",
      "KeyboardInterrupt\n"
     ]
    }
   ],
   "source": [
    "from lava.magma.core.run_configs import Loihi1SimCfg\n",
    "from lava.magma.core.run_conditions import RunSteps\n",
    "from lava.lib.dnf.inputs.gauss_pattern.process import GaussPattern\n",
    "from lava.lib.dnf.inputs.rate_code_spike_gen.process import RateCodeSpikeGen\n",
    "\n",
    "\n",
    "shape = (15,)\n",
    "\n",
    "# GaussPattern produces a pattern of spike rates\n",
    "gauss_pattern = GaussPattern(shape=shape, amplitude=100, mean=5, stddev=5)\n",
    "\n",
    "# The spike generator produces spikes based on the spike rates given\n",
    "# by the Gaussian pattern\n",
    "spike_generator = RateCodeSpikeGen(shape=shape)\n",
    "gauss_pattern.a_out.connect(spike_generator.a_in)\n",
    "\n",
    "# Connect the spike generator to a population\n",
    "population = LIF(shape=shape)\n",
    "connect(spike_generator.s_out, population.a_in, ops=[Weights(20)])\n",
    "\n",
    "# Start running the network (explained below)\n",
    "population.run(condition=RunSteps(num_steps=10),\n",
    "               run_cfg=Loihi1SimCfg(select_tag='floating_pt'))\n",
    "\n",
    "# You may change parameters of the Gaussian pattern during runtime\n",
    "gauss_pattern.amplitude = 50\n",
    "\n",
    "# Continue the run\n",
    "# ...\n",
    "\n",
    "# Stop the run to free resources\n",
    "population.stop()"
   ]
  },
  {
   "cell_type": "markdown",
   "metadata": {},
   "source": [
    "## Higher dimensions\n",
    "\n",
    "Define DNFs and inputs over higher dimensionalities by specifying a `shape` with\n",
    "multiple entries."
   ]
  },
  {
   "cell_type": "code",
   "execution_count": 10,
   "metadata": {
    "pycharm": {
     "name": "#%%\n"
    }
   },
   "outputs": [],
   "source": [
    "shape = (15, 15)\n",
    "dnf = LIF(shape=shape)"
   ]
  },
  {
   "cell_type": "markdown",
   "metadata": {},
   "source": [
    "Inputs and kernels must match the dimensionality of the DNF; specify\n",
    "parameters that can be multi-dimensional, for example `mean` and `stddev` in\n",
    "`GaussPattern`, as vectors rather than scalars."
   ]
  },
  {
   "cell_type": "code",
   "execution_count": 12,
   "metadata": {
    "pycharm": {
     "name": "#%%\n"
    }
   },
   "outputs": [
    {
     "data": {
      "text/plain": [
       "<lava.proc.dense.process.Dense at 0x7f89c9300f10>"
      ]
     },
     "execution_count": 12,
     "metadata": {},
     "output_type": "execute_result"
    }
   ],
   "source": [
    "# Make sure to specify 'mean' and 'stddev' as 2D vectors\n",
    "gauss_pattern = GaussPattern(shape=shape,\n",
    "                             amplitude=100,\n",
    "                             mean=[5, 5],\n",
    "                             stddev=[4, 4])\n",
    "spike_generator = RateCodeSpikeGen(shape=shape)\n",
    "gauss_pattern.a_out.connect(spike_generator.a_in)\n",
    "\n",
    "# Make sure to specify 'width_exc' and 'width_inh'\n",
    "# as 2D vectors\n",
    "kernel = MultiPeakKernel(amp_exc=58,\n",
    "                         width_exc=[3.8, 3.8],\n",
    "                         amp_inh=-50,\n",
    "                         width_inh=[7.5, 7.5])\n",
    "connect(dnf.s_out, dnf.a_in, ops=[Convolution(kernel)])"
   ]
  },
  {
   "cell_type": "markdown",
   "metadata": {},
   "source": [
    "## Operations and larger architectures\n",
    "\n",
    "### One-to-one connections\n",
    "When connecting two DNFs that have the same shape (in terms of neurons and\n",
    "dimensions), you can connect them without specifying any operations."
   ]
  },
  {
   "cell_type": "code",
   "execution_count": 13,
   "metadata": {
    "pycharm": {
     "name": "#%%\n"
    }
   },
   "outputs": [
    {
     "data": {
      "text/plain": [
       "<lava.proc.dense.process.Dense at 0x7f89a8bcd490>"
      ]
     },
     "execution_count": 13,
     "metadata": {},
     "output_type": "execute_result"
    }
   ],
   "source": [
    "dnf1 = LIF(shape=(10,))\n",
    "dnf2 = LIF(shape=(10,))\n",
    "\n",
    "connect(dnf1.s_out, dnf2.a_in)"
   ]
  },
  {
   "cell_type": "markdown",
   "metadata": {
    "pycharm": {
     "name": "#%% md\n"
    }
   },
   "source": [
    "In that case the synaptic weight defaults to 1. If you want to set a\n",
    "homogeneous weight for all neurons, use the operation `Weights`.\n",
    "It connects each neuron in the first DNF to its (single) respective neuron\n",
    "in the second DNF with the specified weight value."
   ]
  },
  {
   "cell_type": "code",
   "execution_count": 14,
   "metadata": {
    "pycharm": {
     "name": "#%%\n"
    }
   },
   "outputs": [
    {
     "data": {
      "text/plain": [
       "<lava.proc.dense.process.Dense at 0x7f89a8cda520>"
      ]
     },
     "execution_count": 14,
     "metadata": {},
     "output_type": "execute_result"
    }
   ],
   "source": [
    "dnf1 = LIF(shape=(10,))\n",
    "dnf2 = LIF(shape=(10,))\n",
    "\n",
    "connect(dnf1.s_out, dnf2.a_in, ops=[Weights(40)])"
   ]
  },
  {
   "cell_type": "markdown",
   "metadata": {},
   "source": [
    "### Reducing dimensions\n",
    "When the dimensionality of the source DNF is larger than that of\n",
    "the target DNF, use the `ReduceDims` operation, specifying the indices of the\n",
    " dimensions that should be removed and how to remove them (here, by summing\n",
    " over dimension 1)."
   ]
  },
  {
   "cell_type": "code",
   "execution_count": 15,
   "metadata": {
    "pycharm": {
     "name": "#%%\n"
    }
   },
   "outputs": [
    {
     "data": {
      "text/plain": [
       "<lava.proc.dense.process.Dense at 0x7f89c931a6a0>"
      ]
     },
     "execution_count": 15,
     "metadata": {},
     "output_type": "execute_result"
    }
   ],
   "source": [
    "from lava.lib.dnf.operations.operations import ReduceDims\n",
    "from lava.lib.dnf.operations.enums import ReduceMethod\n",
    "\n",
    "\n",
    "dnf_2d = LIF(shape=(20, 10))\n",
    "dnf_1d = LIF(shape=(20,))\n",
    "\n",
    "connect(dnf_2d.s_out,\n",
    "        dnf_1d.a_in,\n",
    "        ops=[ReduceDims(reduce_dims=1, reduce_method=ReduceMethod.SUM)])"
   ]
  },
  {
   "cell_type": "markdown",
   "metadata": {},
   "source": [
    "### Expanding dimensions\n",
    "When the dimensionality of the source DNF is smaller than that of the target\n",
    "DNF, use the `ExpandDims` operation, specifying the number of neurons of the\n",
    "dimensions that will be added."
   ]
  },
  {
   "cell_type": "code",
   "execution_count": 16,
   "metadata": {
    "pycharm": {
     "name": "#%%\n"
    }
   },
   "outputs": [
    {
     "data": {
      "text/plain": [
       "<lava.proc.dense.process.Dense at 0x7f89c930edf0>"
      ]
     },
     "execution_count": 16,
     "metadata": {},
     "output_type": "execute_result"
    }
   ],
   "source": [
    "from lava.lib.dnf.operations.operations import ExpandDims\n",
    "\n",
    "\n",
    "dnf_1d = LIF(shape=(20,))\n",
    "dnf_2d = LIF(shape=(20, 10))\n",
    "\n",
    "connect(dnf_1d.s_out, dnf_2d.a_in, ops=[ExpandDims(new_dims_shape=10)])"
   ]
  },
  {
   "cell_type": "markdown",
   "metadata": {},
   "source": [
    "### Reordering dimensions\n",
    "To reorder dimensions, use the `ReorderDims` operation, specifying the indices of the dimension in their new order."
   ]
  },
  {
   "cell_type": "code",
   "execution_count": 17,
   "metadata": {
    "pycharm": {
     "name": "#%%\n"
    }
   },
   "outputs": [
    {
     "ename": "ImportError",
     "evalue": "cannot import name 'ReorderDims' from 'lava.lib.dnf.operations.operations' (/Users/theresejoseph/opt/anaconda3/envs/neurodynx/lib/python3.8/site-packages/lava/lib/dnf/operations/operations.py)",
     "output_type": "error",
     "traceback": [
      "\u001b[0;31m---------------------------------------------------------------------------\u001b[0m",
      "\u001b[0;31mImportError\u001b[0m                               Traceback (most recent call last)",
      "\u001b[1;32m/Users/theresejoseph/Documents/Neural_Network_Playground/scripts/tutorial_dnf_101.ipynb Cell 24'\u001b[0m in \u001b[0;36m<cell line: 1>\u001b[0;34m()\u001b[0m\n\u001b[0;32m----> <a href='vscode-notebook-cell:/Users/theresejoseph/Documents/Neural_Network_Playground/scripts/tutorial_dnf_101.ipynb#ch0000023?line=0'>1</a>\u001b[0m \u001b[39mfrom\u001b[39;00m \u001b[39mlava\u001b[39;00m\u001b[39m.\u001b[39;00m\u001b[39mlib\u001b[39;00m\u001b[39m.\u001b[39;00m\u001b[39mdnf\u001b[39;00m\u001b[39m.\u001b[39;00m\u001b[39moperations\u001b[39;00m\u001b[39m.\u001b[39;00m\u001b[39moperations\u001b[39;00m \u001b[39mimport\u001b[39;00m ReorderDims\n\u001b[1;32m      <a href='vscode-notebook-cell:/Users/theresejoseph/Documents/Neural_Network_Playground/scripts/tutorial_dnf_101.ipynb#ch0000023?line=3'>4</a>\u001b[0m dnf_1 \u001b[39m=\u001b[39m LIF(shape\u001b[39m=\u001b[39m(\u001b[39m10\u001b[39m, \u001b[39m20\u001b[39m))\n\u001b[1;32m      <a href='vscode-notebook-cell:/Users/theresejoseph/Documents/Neural_Network_Playground/scripts/tutorial_dnf_101.ipynb#ch0000023?line=4'>5</a>\u001b[0m dnf_2 \u001b[39m=\u001b[39m LIF(shape\u001b[39m=\u001b[39m(\u001b[39m20\u001b[39m, \u001b[39m10\u001b[39m))\n",
      "\u001b[0;31mImportError\u001b[0m: cannot import name 'ReorderDims' from 'lava.lib.dnf.operations.operations' (/Users/theresejoseph/opt/anaconda3/envs/neurodynx/lib/python3.8/site-packages/lava/lib/dnf/operations/operations.py)"
     ]
    }
   ],
   "source": [
    "from lava.lib.dnf.operations.operations import ReorderDims\n",
    "\n",
    "\n",
    "dnf_1 = LIF(shape=(10, 20))\n",
    "dnf_2 = LIF(shape=(20, 10))\n",
    "\n",
    "# map dimensions (0, 1) of dnf_1 to dimensions (1, 0) of dnf_2\n",
    "connect(dnf_1.s_out, dnf_2.a_in, ops=[ReorderDims(order=(1, 0))])"
   ]
  },
  {
   "cell_type": "markdown",
   "metadata": {},
   "source": [
    "### Flipping dimensions\n",
    "To flip dimensions, use the `Flip` operation, specifying the indices of the dimensions that should be flipped. The operation will map the first neuron of the input population to the last of the output population, the second to the second last, and so on."
   ]
  },
  {
   "cell_type": "code",
   "execution_count": 18,
   "metadata": {},
   "outputs": [
    {
     "ename": "ImportError",
     "evalue": "cannot import name 'Flip' from 'lava.lib.dnf.operations.operations' (/Users/theresejoseph/opt/anaconda3/envs/neurodynx/lib/python3.8/site-packages/lava/lib/dnf/operations/operations.py)",
     "output_type": "error",
     "traceback": [
      "\u001b[0;31m---------------------------------------------------------------------------\u001b[0m",
      "\u001b[0;31mImportError\u001b[0m                               Traceback (most recent call last)",
      "\u001b[1;32m/Users/theresejoseph/Documents/Neural_Network_Playground/scripts/tutorial_dnf_101.ipynb Cell 26'\u001b[0m in \u001b[0;36m<cell line: 1>\u001b[0;34m()\u001b[0m\n\u001b[0;32m----> <a href='vscode-notebook-cell:/Users/theresejoseph/Documents/Neural_Network_Playground/scripts/tutorial_dnf_101.ipynb#ch0000025?line=0'>1</a>\u001b[0m \u001b[39mfrom\u001b[39;00m \u001b[39mlava\u001b[39;00m\u001b[39m.\u001b[39;00m\u001b[39mlib\u001b[39;00m\u001b[39m.\u001b[39;00m\u001b[39mdnf\u001b[39;00m\u001b[39m.\u001b[39;00m\u001b[39moperations\u001b[39;00m\u001b[39m.\u001b[39;00m\u001b[39moperations\u001b[39;00m \u001b[39mimport\u001b[39;00m Flip\n\u001b[1;32m      <a href='vscode-notebook-cell:/Users/theresejoseph/Documents/Neural_Network_Playground/scripts/tutorial_dnf_101.ipynb#ch0000025?line=2'>3</a>\u001b[0m dnf_1 \u001b[39m=\u001b[39m LIF(shape\u001b[39m=\u001b[39m(\u001b[39m10\u001b[39m, \u001b[39m20\u001b[39m))\n\u001b[1;32m      <a href='vscode-notebook-cell:/Users/theresejoseph/Documents/Neural_Network_Playground/scripts/tutorial_dnf_101.ipynb#ch0000025?line=3'>4</a>\u001b[0m dnf_2 \u001b[39m=\u001b[39m LIF(shape\u001b[39m=\u001b[39m(\u001b[39m10\u001b[39m, \u001b[39m20\u001b[39m))\n",
      "\u001b[0;31mImportError\u001b[0m: cannot import name 'Flip' from 'lava.lib.dnf.operations.operations' (/Users/theresejoseph/opt/anaconda3/envs/neurodynx/lib/python3.8/site-packages/lava/lib/dnf/operations/operations.py)"
     ]
    }
   ],
   "source": [
    "from lava.lib.dnf.operations.operations import Flip\n",
    "\n",
    "dnf_1 = LIF(shape=(10, 20))\n",
    "dnf_2 = LIF(shape=(10, 20))\n",
    "\n",
    "# connect the DNFs and flip the dimension of size 20\n",
    "connect(dnf_1.s_out, dnf_2.a_in, ops=[Flip(dims=(1,))])"
   ]
  },
  {
   "cell_type": "markdown",
   "metadata": {},
   "source": [
    "### Projecting along a diagonal\n",
    "The operation `ReduceAlongDiagonal` sums the output of a higher-dimensional population of neurons along its main diagonal diagonal onto a lower-dimensional population. The operation `ExpandAlongDiagonal` does the inverse and projects a ridge of input from a lower-dimensional population into a higher-dimensional population along its main diagonal.\n",
    "They both enable building relational networks (see the dedicated\n",
    "[tutorial on relational networks](../relational_networks/tutorial_relational_networks.ipynb \"Tutorial on relational networks\"))."
   ]
  },
  {
   "cell_type": "code",
   "execution_count": 19,
   "metadata": {},
   "outputs": [
    {
     "ename": "ImportError",
     "evalue": "cannot import name 'ReduceAlongDiagonal' from 'lava.lib.dnf.operations.operations' (/Users/theresejoseph/opt/anaconda3/envs/neurodynx/lib/python3.8/site-packages/lava/lib/dnf/operations/operations.py)",
     "output_type": "error",
     "traceback": [
      "\u001b[0;31m---------------------------------------------------------------------------\u001b[0m",
      "\u001b[0;31mImportError\u001b[0m                               Traceback (most recent call last)",
      "\u001b[1;32m/Users/theresejoseph/Documents/Neural_Network_Playground/scripts/tutorial_dnf_101.ipynb Cell 28'\u001b[0m in \u001b[0;36m<cell line: 1>\u001b[0;34m()\u001b[0m\n\u001b[0;32m----> <a href='vscode-notebook-cell:/Users/theresejoseph/Documents/Neural_Network_Playground/scripts/tutorial_dnf_101.ipynb#ch0000027?line=0'>1</a>\u001b[0m \u001b[39mfrom\u001b[39;00m \u001b[39mlava\u001b[39;00m\u001b[39m.\u001b[39;00m\u001b[39mlib\u001b[39;00m\u001b[39m.\u001b[39;00m\u001b[39mdnf\u001b[39;00m\u001b[39m.\u001b[39;00m\u001b[39moperations\u001b[39;00m\u001b[39m.\u001b[39;00m\u001b[39moperations\u001b[39;00m \u001b[39mimport\u001b[39;00m ReduceAlongDiagonal\n\u001b[1;32m      <a href='vscode-notebook-cell:/Users/theresejoseph/Documents/Neural_Network_Playground/scripts/tutorial_dnf_101.ipynb#ch0000027?line=2'>3</a>\u001b[0m dnf_2d \u001b[39m=\u001b[39m LIF(shape\u001b[39m=\u001b[39m(\u001b[39m40\u001b[39m, \u001b[39m40\u001b[39m))\n\u001b[1;32m      <a href='vscode-notebook-cell:/Users/theresejoseph/Documents/Neural_Network_Playground/scripts/tutorial_dnf_101.ipynb#ch0000027?line=3'>4</a>\u001b[0m relational_dnf_1d \u001b[39m=\u001b[39m LIF(shape\u001b[39m=\u001b[39m(\u001b[39m79\u001b[39m,))  \u001b[39m# shape=(40 * 2 - 1,)\u001b[39;00m\n",
      "\u001b[0;31mImportError\u001b[0m: cannot import name 'ReduceAlongDiagonal' from 'lava.lib.dnf.operations.operations' (/Users/theresejoseph/opt/anaconda3/envs/neurodynx/lib/python3.8/site-packages/lava/lib/dnf/operations/operations.py)"
     ]
    }
   ],
   "source": [
    "from lava.lib.dnf.operations.operations import ReduceAlongDiagonal\n",
    "\n",
    "dnf_2d = LIF(shape=(40, 40))\n",
    "relational_dnf_1d = LIF(shape=(79,))  # shape=(40 * 2 - 1,)\n",
    "\n",
    "connect(dnf_2d.s_out, relational_dnf_1d.a_in, ops=[ReduceAlongDiagonal()])"
   ]
  },
  {
   "cell_type": "code",
   "execution_count": 20,
   "metadata": {},
   "outputs": [
    {
     "ename": "ImportError",
     "evalue": "cannot import name 'ExpandAlongDiagonal' from 'lava.lib.dnf.operations.operations' (/Users/theresejoseph/opt/anaconda3/envs/neurodynx/lib/python3.8/site-packages/lava/lib/dnf/operations/operations.py)",
     "output_type": "error",
     "traceback": [
      "\u001b[0;31m---------------------------------------------------------------------------\u001b[0m",
      "\u001b[0;31mImportError\u001b[0m                               Traceback (most recent call last)",
      "\u001b[1;32m/Users/theresejoseph/Documents/Neural_Network_Playground/scripts/tutorial_dnf_101.ipynb Cell 29'\u001b[0m in \u001b[0;36m<cell line: 1>\u001b[0;34m()\u001b[0m\n\u001b[0;32m----> <a href='vscode-notebook-cell:/Users/theresejoseph/Documents/Neural_Network_Playground/scripts/tutorial_dnf_101.ipynb#ch0000028?line=0'>1</a>\u001b[0m \u001b[39mfrom\u001b[39;00m \u001b[39mlava\u001b[39;00m\u001b[39m.\u001b[39;00m\u001b[39mlib\u001b[39;00m\u001b[39m.\u001b[39;00m\u001b[39mdnf\u001b[39;00m\u001b[39m.\u001b[39;00m\u001b[39moperations\u001b[39;00m\u001b[39m.\u001b[39;00m\u001b[39moperations\u001b[39;00m \u001b[39mimport\u001b[39;00m ExpandAlongDiagonal\n\u001b[1;32m      <a href='vscode-notebook-cell:/Users/theresejoseph/Documents/Neural_Network_Playground/scripts/tutorial_dnf_101.ipynb#ch0000028?line=2'>3</a>\u001b[0m relational_dnf_1d \u001b[39m=\u001b[39m LIF(shape\u001b[39m=\u001b[39m(\u001b[39m79\u001b[39m,))\n\u001b[1;32m      <a href='vscode-notebook-cell:/Users/theresejoseph/Documents/Neural_Network_Playground/scripts/tutorial_dnf_101.ipynb#ch0000028?line=3'>4</a>\u001b[0m dnf_2d \u001b[39m=\u001b[39m LIF(shape\u001b[39m=\u001b[39m(\u001b[39m40\u001b[39m, \u001b[39m40\u001b[39m))  \u001b[39m# shape=((79+1)/2, (79+1)/2)\u001b[39;00m\n",
      "\u001b[0;31mImportError\u001b[0m: cannot import name 'ExpandAlongDiagonal' from 'lava.lib.dnf.operations.operations' (/Users/theresejoseph/opt/anaconda3/envs/neurodynx/lib/python3.8/site-packages/lava/lib/dnf/operations/operations.py)"
     ]
    }
   ],
   "source": [
    "from lava.lib.dnf.operations.operations import ExpandAlongDiagonal\n",
    "\n",
    "relational_dnf_1d = LIF(shape=(79,))\n",
    "dnf_2d = LIF(shape=(40, 40))  # shape=((79+1)/2, (79+1)/2)\n",
    "\n",
    "\n",
    "connect(relational_dnf_1d.s_out, dnf_2d.a_in, ops=[ExpandAlongDiagonal()])"
   ]
  },
  {
   "cell_type": "markdown",
   "metadata": {},
   "source": [
    "### Combining operations\n",
    "\n",
    "All operations can be combined with each other to produce more complex\n",
    "connectivity. For instance, reordering can be combined with the `ReduceDims` or\n",
    "`ExpandDims` operation, which can again be combined with a `Weights` operation,\n",
    "as shown below."
   ]
  },
  {
   "cell_type": "code",
   "execution_count": 21,
   "metadata": {
    "pycharm": {
     "name": "#%%\n"
    }
   },
   "outputs": [
    {
     "ename": "NameError",
     "evalue": "name 'ReorderDims' is not defined",
     "output_type": "error",
     "traceback": [
      "\u001b[0;31m---------------------------------------------------------------------------\u001b[0m",
      "\u001b[0;31mNameError\u001b[0m                                 Traceback (most recent call last)",
      "\u001b[1;32m/Users/theresejoseph/Documents/Neural_Network_Playground/scripts/tutorial_dnf_101.ipynb Cell 31'\u001b[0m in \u001b[0;36m<cell line: 4>\u001b[0;34m()\u001b[0m\n\u001b[1;32m      <a href='vscode-notebook-cell:/Users/theresejoseph/Documents/Neural_Network_Playground/scripts/tutorial_dnf_101.ipynb#ch0000030?line=0'>1</a>\u001b[0m dnf_1d \u001b[39m=\u001b[39m LIF(shape\u001b[39m=\u001b[39m(\u001b[39m10\u001b[39m,))\n\u001b[1;32m      <a href='vscode-notebook-cell:/Users/theresejoseph/Documents/Neural_Network_Playground/scripts/tutorial_dnf_101.ipynb#ch0000030?line=1'>2</a>\u001b[0m dnf_2d \u001b[39m=\u001b[39m LIF(shape\u001b[39m=\u001b[39m(\u001b[39m20\u001b[39m, \u001b[39m10\u001b[39m))\n\u001b[1;32m      <a href='vscode-notebook-cell:/Users/theresejoseph/Documents/Neural_Network_Playground/scripts/tutorial_dnf_101.ipynb#ch0000030?line=3'>4</a>\u001b[0m connect(dnf_1d\u001b[39m.\u001b[39ms_out, dnf_2d\u001b[39m.\u001b[39ma_in, ops\u001b[39m=\u001b[39m[ExpandDims(new_dims_shape\u001b[39m=\u001b[39m\u001b[39m20\u001b[39m),\n\u001b[0;32m----> <a href='vscode-notebook-cell:/Users/theresejoseph/Documents/Neural_Network_Playground/scripts/tutorial_dnf_101.ipynb#ch0000030?line=4'>5</a>\u001b[0m                                         ReorderDims(order\u001b[39m=\u001b[39m(\u001b[39m1\u001b[39m, \u001b[39m0\u001b[39m)),\n\u001b[1;32m      <a href='vscode-notebook-cell:/Users/theresejoseph/Documents/Neural_Network_Playground/scripts/tutorial_dnf_101.ipynb#ch0000030?line=5'>6</a>\u001b[0m                                         Weights(\u001b[39m20\u001b[39m)])\n",
      "\u001b[0;31mNameError\u001b[0m: name 'ReorderDims' is not defined"
     ]
    }
   ],
   "source": [
    "dnf_1d = LIF(shape=(10,))\n",
    "dnf_2d = LIF(shape=(20, 10))\n",
    "\n",
    "connect(dnf_1d.s_out, dnf_2d.a_in, ops=[ExpandDims(new_dims_shape=20),\n",
    "                                        ReorderDims(order=(1, 0)),\n",
    "                                        Weights(20)])"
   ]
  },
  {
   "cell_type": "markdown",
   "metadata": {
    "pycharm": {
     "name": "#%% md\n"
    }
   },
   "source": [
    "## Running and plotting networks\n",
    "\n",
    "Call the `run()` method on any Process in the network.\n",
    "To inspect Vars and Ports in Processes, create Monitors. Use them to probe Vars\n",
    "and Ports before running. Create plots with the probed data after running."
   ]
  },
  {
   "cell_type": "code",
   "execution_count": 22,
   "metadata": {
    "pycharm": {
     "name": "#%%\n"
    }
   },
   "outputs": [],
   "source": [
    "from lava.proc.monitor.process import Monitor\n",
    "\n",
    "\n",
    "shape = (15,)\n",
    "time_steps = 10\n",
    "\n",
    "# Set up a DNF\n",
    "dnf = LIF(shape=shape)\n",
    "kernel = MultiPeakKernel(amp_exc=17,\n",
    "                         width_exc=3,\n",
    "                         amp_inh=-15,\n",
    "                         width_inh=6)\n",
    "connect(dnf.s_out, dnf.a_in, ops=[Convolution(kernel)])\n",
    "\n",
    "# Set up a monitor and probe the spike output of the DNF\n",
    "monitor = Monitor()\n",
    "monitor.probe(dnf.s_out, time_steps)\n",
    "\n",
    "# Run the DNF\n",
    "dnf.run(condition=RunSteps(num_steps=time_steps),\n",
    "        run_cfg=Loihi1SimCfg(select_tag='floating_pt'))\n",
    "\n",
    "# Get probed data from monitor\n",
    "probed_data = monitor.get_data()\n",
    "\n",
    "# Stop the execution after getting the monitor's data\n",
    "dnf.stop()\n",
    "\n",
    "# Now you can plot the data."
   ]
  }
 ],
 "metadata": {
  "kernelspec": {
   "display_name": "Python 3 (ipykernel)",
   "language": "python",
   "name": "python3"
  },
  "language_info": {
   "codemirror_mode": {
    "name": "ipython",
    "version": 3
   },
   "file_extension": ".py",
   "mimetype": "text/x-python",
   "name": "python",
   "nbconvert_exporter": "python",
   "pygments_lexer": "ipython3",
   "version": "3.8.12"
  }
 },
 "nbformat": 4,
 "nbformat_minor": 1
}
